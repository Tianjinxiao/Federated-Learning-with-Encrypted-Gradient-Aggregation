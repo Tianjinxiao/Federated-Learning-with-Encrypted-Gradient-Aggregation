{
  "nbformat": 4,
  "nbformat_minor": 0,
  "metadata": {
    "colab": {
      "name": "Federated Learning with Encrypted Gradient Aggregation using PyTorch + PySyft",
      "version": "0.3.2",
      "provenance": [],
      "include_colab_link": true
    },
    "kernelspec": {
      "name": "python3",
      "display_name": "Python 3"
    },
    "accelerator": "GPU"
  },
  "cells": [
    {
      "cell_type": "markdown",
      "metadata": {
        "id": "view-in-github",
        "colab_type": "text"
      },
      "source": [
        "<a href=\"https://colab.research.google.com/github/gargarchit/Federated-Learning-with-Encrypted-Gradient-Aggregation/blob/master/Federated_Learning_with_Encrypted_Gradient_Aggregation_using_PyTorch_%2B_PySyft.ipynb\" target=\"_parent\"><img src=\"https://colab.research.google.com/assets/colab-badge.svg\" alt=\"Open In Colab\"/></a>"
      ]
    },
    {
      "cell_type": "markdown",
      "metadata": {
        "id": "FTzg2HdwPjUL",
        "colab_type": "text"
      },
      "source": [
        "\n",
        "**Need to train on the MNIST dataset using federated learning However the gradient should not come up to central server in raw form**"
      ]
    },
    {
      "cell_type": "code",
      "metadata": {
        "id": "3n59ChaCR0Uc",
        "colab_type": "code",
        "colab": {}
      },
      "source": [
        "import torch\n",
        "from torchvision import datasets, transforms"
      ],
      "execution_count": 0,
      "outputs": []
    },
    {
      "cell_type": "markdown",
      "metadata": {
        "id": "CiHUPcBrtp2t",
        "colab_type": "text"
      },
      "source": [
        "<h2>Installing and Importing PySyft"
      ]
    },
    {
      "cell_type": "code",
      "metadata": {
        "id": "PgCacd5GRhGO",
        "colab_type": "code",
        "colab": {}
      },
      "source": [
        "!pip install tf-encrypted\n",
        "\n",
        "! URL=\"https://github.com/openmined/PySyft.git\" && FOLDER=\"PySyft\" && if [ ! -d $FOLDER ]; then git clone -b dev --single-branch $URL; else (cd $FOLDER && git pull $URL && cd ..); fi;\n",
        "\n",
        "!cd PySyft; python setup.py install  > /dev/null\n",
        "\n",
        "import os\n",
        "import sys\n",
        "module_path = os.path.abspath(os.path.join('./PySyft'))\n",
        "if module_path not in sys.path:\n",
        "    sys.path.append(module_path)\n",
        "    \n",
        "!pip install --upgrade --force-reinstall lz4\n",
        "!pip install --upgrade --force-reinstall websocket\n",
        "!pip install --upgrade --force-reinstall websockets\n",
        "!pip install --upgrade --force-reinstall zstd"
      ],
      "execution_count": 0,
      "outputs": []
    },
    {
      "cell_type": "code",
      "metadata": {
        "id": "p3FrYjQyHkF2",
        "colab_type": "code",
        "colab": {}
      },
      "source": [
        "import syft as sy\n",
        "hook = sy.TorchHook(torch)\n",
        "\n",
        "# Create a couple of workers\n",
        "bob = sy.VirtualWorker(hook, id=\"bob\")  \n",
        "alice = sy.VirtualWorker(hook, id=\"alice\")\n",
        "secure_worker = sy.VirtualWorker(hook, id=\"secure_worker\")\n",
        "# clearing data of virutal workers.\n",
        "bob.clear_objects\n",
        "alice.clear_objects\n",
        "secure_worker.clear_objects\n",
        "compute_nodes = [bob, alice]"
      ],
      "execution_count": 0,
      "outputs": []
    },
    {
      "cell_type": "code",
      "metadata": {
        "id": "YnRKyN4NUJXj",
        "colab_type": "code",
        "colab": {
          "base_uri": "https://localhost:8080/",
          "height": 34
        },
        "outputId": "ce7aebd4-bd8e-4788-8df9-87569c651712"
      },
      "source": [
        "compute_nodes"
      ],
      "execution_count": 16,
      "outputs": [
        {
          "output_type": "execute_result",
          "data": {
            "text/plain": [
              "[<VirtualWorker id:bob #objects:72>, <VirtualWorker id:alice #objects:60>]"
            ]
          },
          "metadata": {
            "tags": []
          },
          "execution_count": 16
        }
      ]
    },
    {
      "cell_type": "code",
      "metadata": {
        "id": "ETjSGBFnTDIv",
        "colab_type": "code",
        "outputId": "e0f2e5b0-2bdf-4b1d-89e0-3c23110e2a9f",
        "colab": {
          "base_uri": "https://localhost:8080/",
          "height": 34
        }
      },
      "source": [
        "#We define the setting of the learning task\n",
        "\n",
        "class Arguments():\n",
        "    def __init__(self):\n",
        "        self.batch_size = 64\n",
        "        self.test_batch_size = 10000\n",
        "        self.epochs = 50\n",
        "        self.lr = 0.01\n",
        "        self.momentum = 0.5\n",
        "        self.no_cuda = False\n",
        "        self.seed = 1\n",
        "        self.log_interval = 30\n",
        "        self.save_model = False\n",
        "\n",
        "args = Arguments()\n",
        "\n",
        "torch.manual_seed(args.seed)"
      ],
      "execution_count": 38,
      "outputs": [
        {
          "output_type": "execute_result",
          "data": {
            "text/plain": [
              "<torch._C.Generator at 0x7f8b48d348f0>"
            ]
          },
          "metadata": {
            "tags": []
          },
          "execution_count": 38
        }
      ]
    },
    {
      "cell_type": "code",
      "metadata": {
        "id": "tb0_fFNtEP1V",
        "colab_type": "code",
        "outputId": "065eb2a7-067a-4ce7-bbbc-43c120b1ac8b",
        "colab": {
          "base_uri": "https://localhost:8080/",
          "height": 34
        }
      },
      "source": [
        "use_cuda = not args.no_cuda and torch.cuda.is_available()\n",
        "device = torch.device(\"cuda\" if use_cuda else \"cpu\")\n",
        "print(device)"
      ],
      "execution_count": 39,
      "outputs": [
        {
          "output_type": "stream",
          "text": [
            "cuda\n"
          ],
          "name": "stdout"
        }
      ]
    },
    {
      "cell_type": "markdown",
      "metadata": {
        "id": "uK6lNkqYVzjE",
        "colab_type": "text"
      },
      "source": [
        "<h2>Data loading and sending to workers</h2>"
      ]
    },
    {
      "cell_type": "code",
      "metadata": {
        "id": "z-Z8C53wThHr",
        "colab_type": "code",
        "colab": {}
      },
      "source": [
        "# FederatedDataLoader \n",
        "# we distribute the dataset across all the workers, it's now a FederatedDataset\n",
        "transform=transforms.Compose([transforms.ToTensor(),\n",
        "                              transforms.Normalize((0.1307,), (0.3081,))]) \n",
        "mnist_trainset = datasets.MNIST(root='../data', train=True, download=True, transform=transform)\n",
        "train_loader = torch.utils.data.DataLoader(mnist_trainset, batch_size=args.test_batch_size, shuffle=True)\n",
        "\n",
        "\n",
        "mnist_testset = datasets.MNIST(root='../data', train=False, download=True, transform=transform)\n",
        "test_loader = torch.utils.data.DataLoader(mnist_testset, batch_size=args.test_batch_size, shuffle=True)\n"
      ],
      "execution_count": 0,
      "outputs": []
    },
    {
      "cell_type": "code",
      "metadata": {
        "id": "PrFRU-n7etxF",
        "colab_type": "code",
        "colab": {}
      },
      "source": [
        "train_distributed_dataset = []\n",
        "\n",
        "for batch_idx, (data,target) in enumerate(train_loader):\n",
        "    data = data.send(compute_nodes[batch_idx % len(compute_nodes)])\n",
        "    target = target.send(compute_nodes[batch_idx % len(compute_nodes)])\n",
        "    train_distributed_dataset.append((data, target))"
      ],
      "execution_count": 0,
      "outputs": []
    },
    {
      "cell_type": "code",
      "metadata": {
        "id": "6naclmd4UiCY",
        "colab_type": "code",
        "colab": {}
      },
      "source": [
        "#train_distributed_dataset"
      ],
      "execution_count": 0,
      "outputs": []
    },
    {
      "cell_type": "markdown",
      "metadata": {
        "id": "MuO9ibk7WkV8",
        "colab_type": "text"
      },
      "source": [
        "<h2>Network Architecture</h2>"
      ]
    },
    {
      "cell_type": "code",
      "metadata": {
        "id": "GA1KtpYCWQR7",
        "colab_type": "code",
        "colab": {}
      },
      "source": [
        "from torch import nn, optim\n",
        "import torch.nn.functional as F\n",
        "torch.set_default_tensor_type(torch.cuda.FloatTensor)"
      ],
      "execution_count": 0,
      "outputs": []
    },
    {
      "cell_type": "code",
      "metadata": {
        "id": "LVnIl6qwWu77",
        "colab_type": "code",
        "colab": {}
      },
      "source": [
        "class Classifier(nn.Module):\n",
        "    \"\"\"\n",
        "    Forward Convolutional Neural Network Architecture model\n",
        "    \n",
        "    \"\"\"\n",
        "    def __init__(self):\n",
        "        super().__init__()\n",
        "        self.conv1 = nn.Conv2d(1, 20, 5, 1)\n",
        "        self.conv2 = nn.Conv2d(20, 50, 5, 1)\n",
        "        self.fc1 = nn.Linear(4*4*50, 500)\n",
        "        self.fc2 = nn.Linear(500, 10)\n",
        "\n",
        "    def forward(self, x):\n",
        "        x = F.relu(self.conv1(x))\n",
        "        x = F.max_pool2d(x, 2, 2)\n",
        "        x = F.relu(self.conv2(x))\n",
        "        x = F.max_pool2d(x, 2, 2)\n",
        "        x = x.view(-1, 4*4*50)\n",
        "        x = F.relu(self.fc1(x))\n",
        "        x = self.fc2(x)\n",
        "        return F.log_softmax(x, dim=1)"
      ],
      "execution_count": 0,
      "outputs": []
    },
    {
      "cell_type": "code",
      "metadata": {
        "id": "C0_W6LPWSPew",
        "colab_type": "code",
        "colab": {}
      },
      "source": [
        "model = Classifier()\n",
        "model = model.to(device)\n",
        "optimizer = optim.SGD(model.parameters(), lr=args.lr)"
      ],
      "execution_count": 0,
      "outputs": []
    },
    {
      "cell_type": "code",
      "metadata": {
        "id": "14Q8wcO55gF6",
        "colab_type": "code",
        "colab": {}
      },
      "source": [
        "for epoch in range(1, args.epochs + 1):\n",
        "    model.train()\n",
        "    for batch_idx, (data, target) in enumerate(train_distributed_dataset): # iterate through each worker's dataset\n",
        "        \n",
        "        model.send(data.location) #send the model to the right location\n",
        "        \n",
        "        data, target = data.to(device), target.to(device)\n",
        "        \n",
        "        optimizer.zero_grad() # 1) erase previous gradients (if they exist)\n",
        "        output = model(data)  # 2) make a prediction\n",
        "        loss = F.nll_loss(output, target)  # 3) calculate how much we missed\n",
        "        loss.backward()  # 4) figure out which weights caused us to miss\n",
        "        optimizer.step()  # 5) change those weights\n",
        "        model.get()  # get the model back (with gradients)\n",
        "        \n",
        "        if batch_idx % args.log_interval == 0:\n",
        "            loss = loss.get() #get the loss back\n",
        "            print('Train Epoch: {} [{}/{} ({:.0f}%)]\\tLoss: {:.6f}'.format(\n",
        "                epoch, batch_idx * data.shape[0], len(train_loader),\n",
        "                       100. * batch_idx / len(train_loader), loss.item()))"
      ],
      "execution_count": 0,
      "outputs": []
    },
    {
      "cell_type": "code",
      "metadata": {
        "id": "2008WJJAfb1-",
        "colab_type": "code",
        "colab": {}
      },
      "source": [
        ""
      ],
      "execution_count": 0,
      "outputs": []
    }
  ]
}